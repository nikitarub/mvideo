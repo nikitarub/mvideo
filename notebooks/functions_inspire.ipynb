{
 "cells": [
  {
   "cell_type": "code",
   "execution_count": 2,
   "metadata": {
    "collapsed": true
   },
   "outputs": [],
   "source": [
    "import word2vec"
   ]
  },
  {
   "cell_type": "code",
   "execution_count": 4,
   "metadata": {
    "collapsed": true
   },
   "outputs": [],
   "source": [
    "def tree_near_word(word, num_leafs=10):\n",
    "    indexes, metrics = model.cosine(word, num_leafs)\n",
    "    words_leaf = []\n",
    "    vecs_words_leaf = []\n",
    "    for i in indexes:\n",
    "        word_leaf = model.vocab[i]\n",
    "        vec_word_leaf = model.get_vector(word_leaf)\n",
    "        words_leaf.append(word_leaf)\n",
    "        vecs_words_leaf.append(vec_word_leaf)\n",
    "    return words_leaf, vecs_words_leaf\n"
   ]
  },
  {
   "cell_type": "code",
   "execution_count": 7,
   "metadata": {
    "collapsed": true
   },
   "outputs": [],
   "source": [
    "good_words = ['хорошо', 'отлично', 'идеально', 'прекрасно', 'удобно', 'превосходно',  'советую', 'рекомендую',\n",
    "              'наслаждаюсь', 'кайфую', 'кайф', 'балдею', 'хвалю']\n",
    "\n",
    "bad_words = ['плохо', 'ужасно', 'ужас', 'отвратительно', 'сломалось']"
   ]
  },
  {
   "cell_type": "code",
   "execution_count": 12,
   "metadata": {
    "collapsed": false
   },
   "outputs": [],
   "source": [
    "# очистка от малых слов\n",
    "def del_little_words(words, leave_deny=True):\n",
    "    length = len(words)\n",
    "    i = 0\n",
    "    while i < length:\n",
    "        if len(words[i]) <= 3:\n",
    "            if leave_deny and words[i] != 'не':\n",
    "                print(1, words[i])\n",
    "                del(words[i])\n",
    "            elif not leave_deny:\n",
    "                print(2, words[i])\n",
    "                del(words[i])\n",
    "            i -= 1\n",
    "            length -= 1\n",
    "        i += 1"
   ]
  },
  {
   "cell_type": "code",
   "execution_count": null,
   "metadata": {
    "collapsed": true
   },
   "outputs": [],
   "source": []
  }
 ],
 "metadata": {
  "kernelspec": {
   "display_name": "Python 3",
   "language": "python",
   "name": "python3"
  },
  "language_info": {
   "codemirror_mode": {
    "name": "ipython",
    "version": 3
   },
   "file_extension": ".py",
   "mimetype": "text/x-python",
   "name": "python",
   "nbconvert_exporter": "python",
   "pygments_lexer": "ipython3",
   "version": "3.5.2"
  }
 },
 "nbformat": 4,
 "nbformat_minor": 2
}
